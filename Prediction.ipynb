{
 "cells": [
  {
   "cell_type": "code",
   "execution_count": 1,
   "id": "4280d08a-9a7b-4d7d-b171-d984e50d6da3",
   "metadata": {},
   "outputs": [],
   "source": [
    "import cv2\n",
    "import tensorflow as tf"
   ]
  },
  {
   "cell_type": "code",
   "execution_count": 2,
   "id": "154df659-8254-463c-bd4a-4c04d9e030b4",
   "metadata": {},
   "outputs": [],
   "source": [
    "CATEGORIES = ['NORMAL','PNEUMONIA']\n",
    "\n",
    "def prepare(filepath):\n",
    "    IMG_SIZE = 150\n",
    "    img_array = cv2.imread(filepath,cv2.IMREAD_GRAYSCALE)\n",
    "    new_array = cv2.resize(img_array , (IMG_SIZE,IMG_SIZE))\n",
    "    return new_array.reshape(-1 , IMG_SIZE,IMG_SIZE , 1)"
   ]
  },
  {
   "cell_type": "code",
   "execution_count": 3,
   "id": "e5dc1e54-e601-4254-bfd9-8968a9db02f1",
   "metadata": {},
   "outputs": [],
   "source": [
    "model = tf.keras.models.load_model('Cnn.model')"
   ]
  },
  {
   "cell_type": "code",
   "execution_count": 4,
   "id": "2ce72837-d563-4d1a-b02e-82f4e8e82bca",
   "metadata": {},
   "outputs": [
    {
     "name": "stdout",
     "output_type": "stream",
     "text": [
      "1/1 [==============================] - 4s 4s/step\n"
     ]
    },
    {
     "data": {
      "text/plain": [
       "array([[0.]], dtype=float32)"
      ]
     },
     "execution_count": 4,
     "metadata": {},
     "output_type": "execute_result"
    }
   ],
   "source": [
    "model.predict(prepare('E:/AI/Pediatric_Chest_X-ray_Pneumonia/test/NORMAL/IM-0025-0001.JPEG'))"
   ]
  },
  {
   "cell_type": "code",
   "execution_count": 6,
   "id": "5f9109bd-faa8-47de-bd96-356e2fdd0e63",
   "metadata": {},
   "outputs": [
    {
     "name": "stdout",
     "output_type": "stream",
     "text": [
      "1/1 [==============================] - 0s 34ms/step\n",
      "NORMAL\n"
     ]
    }
   ],
   "source": [
    "prediction = model.predict(prepare('E:/AI/Pediatric_Chest_X-ray_Pneumonia/test/NORMAL/IM-0025-0001.JPEG'))\n",
    "print(CATEGORIES[int(prediction[0][0])])"
   ]
  },
  {
   "cell_type": "code",
   "execution_count": null,
   "id": "cb356880-53ca-4a03-bad5-531ee25f9871",
   "metadata": {},
   "outputs": [],
   "source": []
  }
 ],
 "metadata": {
  "kernelspec": {
   "display_name": "Python 3 (ipykernel)",
   "language": "python",
   "name": "python3"
  },
  "language_info": {
   "codemirror_mode": {
    "name": "ipython",
    "version": 3
   },
   "file_extension": ".py",
   "mimetype": "text/x-python",
   "name": "python",
   "nbconvert_exporter": "python",
   "pygments_lexer": "ipython3",
   "version": "3.9.12"
  }
 },
 "nbformat": 4,
 "nbformat_minor": 5
}
